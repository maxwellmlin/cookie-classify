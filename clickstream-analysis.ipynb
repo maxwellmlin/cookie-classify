{
 "cells": [
  {
   "cell_type": "code",
   "execution_count": 26,
   "metadata": {},
   "outputs": [],
   "source": [
    "from utils.image_shingle import ImageShingle\n",
    "import os\n",
    "import pandas as pd"
   ]
  },
  {
   "cell_type": "code",
   "execution_count": 27,
   "metadata": {},
   "outputs": [],
   "source": [
    "CRAWL_NAME = 'clickstream-experiment'\n",
    "CRAWL_PATH = f'crawls/{CRAWL_NAME}/'"
   ]
  },
  {
   "cell_type": "code",
   "execution_count": 28,
   "metadata": {},
   "outputs": [
    {
     "name": "stdout",
     "output_type": "stream",
     "text": [
      "1\n"
     ]
    }
   ],
   "source": [
    "def get_directories(root: str) -> list[str]:\n",
    "    \"\"\"\n",
    "    Return a list of directories in a given root directory.\n",
    "\n",
    "    Args:\n",
    "        root: Path to the root directory.\n",
    "\n",
    "    Returns:\n",
    "        A list of directories.\n",
    "    \"\"\"\n",
    "    dirs = []\n",
    "    for item in os.listdir(root):\n",
    "        path = os.path.join(root, item)\n",
    "        if os.path.isdir(path):\n",
    "            dirs.append(path)\n",
    "\n",
    "    return dirs\n",
    "\n",
    "print(len(get_directories(CRAWL_PATH)))"
   ]
  },
  {
   "cell_type": "code",
   "execution_count": 29,
   "metadata": {},
   "outputs": [],
   "source": [
    "def compare_clickstreams(baseline: str, comparison: str, name: str) -> pd.DataFrame:\n",
    "    rows_list = []\n",
    "\n",
    "    for path in get_directories(CRAWL_PATH):\n",
    "        clickstreams = get_directories(path)\n",
    "\n",
    "        sample_size = 0\n",
    "\n",
    "        total_clickstreams = 0\n",
    "        website_sum = 0\n",
    "\n",
    "        for clickstream in clickstreams:\n",
    "\n",
    "            total_actions = 0\n",
    "            clickstream_sum = 0\n",
    "\n",
    "            for _ in range(10):\n",
    "                all_cookies_path = f\"{clickstream}/{baseline}-{total_actions}.png\"\n",
    "                no_cookies_path = f\"{clickstream}/{comparison}-{total_actions}.png\"\n",
    "                \n",
    "                if os.path.isfile(all_cookies_path) and os.path.isfile(no_cookies_path):\n",
    "                    CHUNK_SIZE = 40  # Recommended by https://www.usenix.org/legacy/events/sec07/tech/full_papers/anderson/anderson.pdf\n",
    "                    all_cookies_shingle = ImageShingle(all_cookies_path, 40)\n",
    "                    no_cookies_shingle = ImageShingle(no_cookies_path, 40)\n",
    "\n",
    "                    clickstream_sum += all_cookies_shingle.compare(no_cookies_shingle)\n",
    "                    total_actions += 1\n",
    "                else:\n",
    "                    break\n",
    "\n",
    "            sample_size += total_actions\n",
    "\n",
    "            if total_actions != 0:\n",
    "                clickstream_similarity = clickstream_sum / total_actions\n",
    "                website_sum += clickstream_similarity\n",
    "\n",
    "                total_clickstreams += 1\n",
    "        \n",
    "        if total_clickstreams != 0:\n",
    "            website_similarity = website_sum / total_clickstreams\n",
    "            website_difference = 1 - website_similarity\n",
    "\n",
    "            website = os.path.basename(os.path.normpath(path))\n",
    "            rows_list.append({\n",
    "                \"website\": website,\n",
    "                f\"difference_{name}\": website_difference,\n",
    "                f\"sample_size_{name}\": sample_size\n",
    "            })\n",
    "\n",
    "    return pd.DataFrame(rows_list)"
   ]
  },
  {
   "cell_type": "code",
   "execution_count": 30,
   "metadata": {},
   "outputs": [],
   "source": [
    "no_cookies = compare_clickstreams(\"baseline\", \"all_cookies\", \"control_group\")\n",
    "all_cookies = compare_clickstreams(\"baseline\", \"no_cookies\", \"remove_cookies\")"
   ]
  },
  {
   "cell_type": "code",
   "execution_count": 31,
   "metadata": {},
   "outputs": [],
   "source": [
    "merged_df = no_cookies.merge(all_cookies, on=[\"website\"], how=\"inner\")"
   ]
  },
  {
   "cell_type": "code",
   "execution_count": 32,
   "metadata": {},
   "outputs": [],
   "source": [
    "merged_df.to_csv(f'analysis/{CRAWL_NAME}.csv', index=False)"
   ]
  },
  {
   "cell_type": "code",
   "execution_count": 33,
   "metadata": {},
   "outputs": [
    {
     "data": {
      "text/html": [
       "<div>\n",
       "<style scoped>\n",
       "    .dataframe tbody tr th:only-of-type {\n",
       "        vertical-align: middle;\n",
       "    }\n",
       "\n",
       "    .dataframe tbody tr th {\n",
       "        vertical-align: top;\n",
       "    }\n",
       "\n",
       "    .dataframe thead th {\n",
       "        text-align: right;\n",
       "    }\n",
       "</style>\n",
       "<table border=\"1\" class=\"dataframe\">\n",
       "  <thead>\n",
       "    <tr style=\"text-align: right;\">\n",
       "      <th></th>\n",
       "      <th>website</th>\n",
       "      <th>difference_control_group</th>\n",
       "      <th>sample_size_control_group</th>\n",
       "      <th>difference_remove_cookies</th>\n",
       "      <th>sample_size_remove_cookies</th>\n",
       "    </tr>\n",
       "  </thead>\n",
       "  <tbody>\n",
       "    <tr>\n",
       "      <th>0</th>\n",
       "      <td>mail.ru</td>\n",
       "      <td>0.272619</td>\n",
       "      <td>33</td>\n",
       "      <td>0.558185</td>\n",
       "      <td>9</td>\n",
       "    </tr>\n",
       "  </tbody>\n",
       "</table>\n",
       "</div>"
      ],
      "text/plain": [
       "   website  difference_control_group  sample_size_control_group  \\\n",
       "0  mail.ru                  0.272619                         33   \n",
       "\n",
       "   difference_remove_cookies  sample_size_remove_cookies  \n",
       "0                   0.558185                           9  "
      ]
     },
     "execution_count": 33,
     "metadata": {},
     "output_type": "execute_result"
    }
   ],
   "source": [
    "merged_df"
   ]
  }
 ],
 "metadata": {
  "kernelspec": {
   "display_name": "cookie-classify",
   "language": "python",
   "name": "python3"
  },
  "language_info": {
   "codemirror_mode": {
    "name": "ipython",
    "version": 3
   },
   "file_extension": ".py",
   "mimetype": "text/x-python",
   "name": "python",
   "nbconvert_exporter": "python",
   "pygments_lexer": "ipython3",
   "version": "3.11.4"
  },
  "orig_nbformat": 4
 },
 "nbformat": 4,
 "nbformat_minor": 2
}
