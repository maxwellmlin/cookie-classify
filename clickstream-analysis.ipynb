{
 "cells": [
  {
   "cell_type": "code",
   "execution_count": 1,
   "metadata": {},
   "outputs": [],
   "source": [
    "from image_shingle import ImageShingle\n",
    "import os"
   ]
  },
  {
   "cell_type": "code",
   "execution_count": 2,
   "metadata": {},
   "outputs": [],
   "source": [
    "CRAWL_PATH = 'crawls/clickstream/'"
   ]
  },
  {
   "cell_type": "code",
   "execution_count": 3,
   "metadata": {},
   "outputs": [],
   "source": [
    "def get_directories(root: str) -> list[str]:\n",
    "    \"\"\"\n",
    "    Return a list of directories in a given root directory.\n",
    "\n",
    "    Args:\n",
    "        root: Path to the root directory.\n",
    "\n",
    "    Returns:\n",
    "        A list of directories.\n",
    "    \"\"\"\n",
    "    dirs = []\n",
    "    for item in os.listdir(root):\n",
    "        path = os.path.join(root, item)\n",
    "        if os.path.isdir(path):\n",
    "            dirs.append(path)\n",
    "\n",
    "    return dirs"
   ]
  },
  {
   "cell_type": "code",
   "execution_count": 4,
   "metadata": {},
   "outputs": [
    {
     "name": "stdout",
     "output_type": "stream",
     "text": [
      "{'crawls/clickstream/maxwellmlin.com': 0.9997619047619046, 'crawls/clickstream/mail.ru': 0.35129676870748305, 'crawls/clickstream/zoom.us': 0.6483843537414966, 'crawls/clickstream/europa.eu': 0.8113095238095238}\n"
     ]
    }
   ],
   "source": [
    "similarity_score = {}\n",
    "\n",
    "for site in get_directories(CRAWL_PATH):\n",
    "    clickstreams = get_directories(site)\n",
    "\n",
    "    total_clickstreams = 0\n",
    "    website_sum = 0\n",
    "\n",
    "    for clickstream in clickstreams:\n",
    "\n",
    "        total_actions = 0\n",
    "        clickstream_sum = 0\n",
    "\n",
    "        for _ in range(10):\n",
    "            all_cookies_path = f\"{clickstream}/all_cookies-{total_actions}.png\"\n",
    "            no_cookies_path = f\"{clickstream}/no_cookies-{total_actions}.png\"\n",
    "            \n",
    "            if os.path.isfile(all_cookies_path) and os.path.isfile(no_cookies_path):\n",
    "                CHUNK_SIZE = 40  # Recommended by https://www.usenix.org/legacy/events/sec07/tech/full_papers/anderson/anderson.pdf\n",
    "                all_cookies_shingle = ImageShingle(all_cookies_path, 40)\n",
    "                no_cookies_shingle = ImageShingle(no_cookies_path, 40)\n",
    "\n",
    "                clickstream_sum += all_cookies_shingle.compare(no_cookies_shingle)\n",
    "                total_actions += 1\n",
    "            else:\n",
    "                break\n",
    "\n",
    "        if total_actions != 0:\n",
    "            clickstream_similarity = clickstream_sum / total_actions\n",
    "            website_sum += clickstream_similarity\n",
    "\n",
    "            total_clickstreams += 1\n",
    "    \n",
    "    if total_clickstreams != 0:\n",
    "        website_similarity = website_sum / total_clickstreams\n",
    "        similarity_score[site] = website_similarity\n",
    "\n",
    "print(similarity_score)"
   ]
  }
 ],
 "metadata": {
  "kernelspec": {
   "display_name": "cookie-classify",
   "language": "python",
   "name": "python3"
  },
  "language_info": {
   "codemirror_mode": {
    "name": "ipython",
    "version": 3
   },
   "file_extension": ".py",
   "mimetype": "text/x-python",
   "name": "python",
   "nbconvert_exporter": "python",
   "pygments_lexer": "ipython3",
   "version": "3.11.4"
  },
  "orig_nbformat": 4
 },
 "nbformat": 4,
 "nbformat_minor": 2
}
