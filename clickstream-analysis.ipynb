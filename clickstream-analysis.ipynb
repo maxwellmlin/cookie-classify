{
 "cells": [
  {
   "cell_type": "code",
   "execution_count": 6,
   "metadata": {},
   "outputs": [],
   "source": [
    "from image_shingle import ImageShingle\n",
    "import os\n",
    "import pandas as pd"
   ]
  },
  {
   "cell_type": "code",
   "execution_count": 7,
   "metadata": {},
   "outputs": [],
   "source": [
    "CRAWL_NAME = 'clickstream'\n",
    "CRAWL_PATH = f'crawls/{CRAWL_NAME}/'"
   ]
  },
  {
   "cell_type": "code",
   "execution_count": 8,
   "metadata": {},
   "outputs": [
    {
     "name": "stdout",
     "output_type": "stream",
     "text": [
      "114\n"
     ]
    }
   ],
   "source": [
    "def get_directories(root: str) -> list[str]:\n",
    "    \"\"\"\n",
    "    Return a list of directories in a given root directory.\n",
    "\n",
    "    Args:\n",
    "        root: Path to the root directory.\n",
    "\n",
    "    Returns:\n",
    "        A list of directories.\n",
    "    \"\"\"\n",
    "    dirs = []\n",
    "    for item in os.listdir(root):\n",
    "        path = os.path.join(root, item)\n",
    "        if os.path.isdir(path):\n",
    "            dirs.append(path)\n",
    "\n",
    "    return dirs\n",
    "\n",
    "print(len(get_directories(CRAWL_PATH)))"
   ]
  },
  {
   "cell_type": "code",
   "execution_count": 9,
   "metadata": {},
   "outputs": [
    {
     "name": "stdout",
     "output_type": "stream",
     "text": [
      "             website  website_similarity  sample_size\n",
      "0         abc.net.au            0.841729           35\n",
      "1         aliyun.com            0.885851            6\n",
      "2       amazon.co.uk            0.251194            8\n",
      "3            bmj.com            0.575774           69\n",
      "4   businesswire.com            0.891667           60\n",
      "..               ...                 ...          ...\n",
      "82  verywellmind.com            0.753376           24\n",
      "83         viber.com            0.399016           12\n",
      "84       weborama.fr            0.631944           13\n",
      "85         wufoo.com            0.808808           41\n",
      "86          zend.com            0.627611           33\n",
      "\n",
      "[87 rows x 3 columns]\n"
     ]
    }
   ],
   "source": [
    "rows_list = []\n",
    "\n",
    "for path in get_directories(CRAWL_PATH):\n",
    "    clickstreams = get_directories(path)\n",
    "\n",
    "    sample_size = 0\n",
    "\n",
    "    total_clickstreams = 0\n",
    "    website_sum = 0\n",
    "\n",
    "    for clickstream in clickstreams:\n",
    "\n",
    "        total_actions = 0\n",
    "        clickstream_sum = 0\n",
    "\n",
    "        for _ in range(10):\n",
    "            all_cookies_path = f\"{clickstream}/all_cookies-{total_actions}.png\"\n",
    "            no_cookies_path = f\"{clickstream}/no_cookies-{total_actions}.png\"\n",
    "            \n",
    "            if os.path.isfile(all_cookies_path) and os.path.isfile(no_cookies_path):\n",
    "                CHUNK_SIZE = 40  # Recommended by https://www.usenix.org/legacy/events/sec07/tech/full_papers/anderson/anderson.pdf\n",
    "                all_cookies_shingle = ImageShingle(all_cookies_path, 40)\n",
    "                no_cookies_shingle = ImageShingle(no_cookies_path, 40)\n",
    "\n",
    "                clickstream_sum += all_cookies_shingle.compare(no_cookies_shingle)\n",
    "                total_actions += 1\n",
    "            else:\n",
    "                break\n",
    "\n",
    "        sample_size += total_actions\n",
    "\n",
    "        if total_actions != 0:\n",
    "            clickstream_similarity = clickstream_sum / total_actions\n",
    "            website_sum += clickstream_similarity\n",
    "\n",
    "            total_clickstreams += 1\n",
    "    \n",
    "    if total_clickstreams != 0:\n",
    "        website_similarity = website_sum / total_clickstreams\n",
    "\n",
    "        website = os.path.basename(os.path.normpath(path))\n",
    "        rows_list.append({\n",
    "            \"website\": website,\n",
    "            \"website_similarity\": website_similarity,\n",
    "            \"sample_size\": sample_size\n",
    "        })\n",
    "        \n",
    "df = pd.DataFrame(rows_list)\n",
    "print(df)"
   ]
  },
  {
   "cell_type": "code",
   "execution_count": 11,
   "metadata": {},
   "outputs": [],
   "source": [
    "df.sort_values(by=['sample_size'], ascending=False, inplace=True)\n",
    "df.to_csv(f'analysis/{CRAWL_NAME}.csv', index=False)"
   ]
  }
 ],
 "metadata": {
  "kernelspec": {
   "display_name": "cookie-classify",
   "language": "python",
   "name": "python3"
  },
  "language_info": {
   "codemirror_mode": {
    "name": "ipython",
    "version": 3
   },
   "file_extension": ".py",
   "mimetype": "text/x-python",
   "name": "python",
   "nbconvert_exporter": "python",
   "pygments_lexer": "ipython3",
   "version": "3.11.4"
  },
  "orig_nbformat": 4
 },
 "nbformat": 4,
 "nbformat_minor": 2
}
