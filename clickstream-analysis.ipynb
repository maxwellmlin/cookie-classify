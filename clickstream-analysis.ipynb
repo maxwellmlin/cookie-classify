{
 "cells": [
  {
   "cell_type": "code",
   "execution_count": 1,
   "metadata": {},
   "outputs": [],
   "source": [
    "from utils.image_shingle import ImageShingle\n",
    "import os\n",
    "import pandas as pd\n",
    "import json\n",
    "import utils.utils as utils"
   ]
  },
  {
   "cell_type": "code",
   "execution_count": 2,
   "metadata": {},
   "outputs": [
    {
     "name": "stdout",
     "output_type": "stream",
     "text": [
      "1\n"
     ]
    }
   ],
   "source": [
    "CRAWL_NAME = 'slate'\n",
    "CRAWL_PATH = f'crawls/{CRAWL_NAME}/'\n",
    "\n",
    "PATHS = []\n",
    "with open(f\"crawls/{CRAWL_NAME}/results.json\") as log_file:\n",
    "    results = json.load(log_file)\n",
    "    for path in results:\n",
    "        # if not results[path][\"unknown_exception\"]:\n",
    "        PATHS.append(path)\n",
    "        \n",
    "PATHS = utils.get_directories(CRAWL_PATH)\n",
    "print(len(utils.get_directories(CRAWL_PATH)))"
   ]
  },
  {
   "cell_type": "code",
   "execution_count": 3,
   "metadata": {},
   "outputs": [],
   "source": [
    "def compare_clickstreams(baseline: str, comparison: str, name: str) -> pd.DataFrame:\n",
    "    rows_list = []\n",
    "\n",
    "    for path in PATHS:\n",
    "        clickstreams = utils.get_directories(path)\n",
    "\n",
    "        sample_size = 0\n",
    "\n",
    "        total_clickstreams = 0\n",
    "        website_sum = 0\n",
    "\n",
    "        for clickstream in clickstreams:\n",
    "\n",
    "            total_actions = 0\n",
    "            clickstream_sum = 0\n",
    "\n",
    "            for _ in range(10):\n",
    "                all_cookies_path = f\"{clickstream}/{baseline}-{total_actions}.png\"\n",
    "                no_cookies_path = f\"{clickstream}/{comparison}-{total_actions}.png\"\n",
    "                \n",
    "                if os.path.isfile(all_cookies_path) and os.path.isfile(no_cookies_path):\n",
    "                    CHUNK_SIZE = 40  # Recommended by https://www.usenix.org/legacy/events/sec07/tech/full_papers/anderson/anderson.pdf\n",
    "                    all_cookies_shingle = ImageShingle(all_cookies_path, CHUNK_SIZE)\n",
    "                    no_cookies_shingle = ImageShingle(no_cookies_path, CHUNK_SIZE)\n",
    "\n",
    "                    clickstream_sum += all_cookies_shingle.compare(no_cookies_shingle)\n",
    "                    total_actions += 1\n",
    "\n",
    "            sample_size += total_actions\n",
    "\n",
    "            if total_actions != 0:\n",
    "                clickstream_similarity = clickstream_sum / total_actions\n",
    "                website_sum += clickstream_similarity\n",
    "\n",
    "                total_clickstreams += 1\n",
    "        \n",
    "        if total_clickstreams != 0:\n",
    "            website_similarity = website_sum / total_clickstreams\n",
    "            website_difference = 1 - website_similarity\n",
    "\n",
    "            website = os.path.basename(os.path.normpath(path))\n",
    "            rows_list.append({\n",
    "                \"website\": website,\n",
    "                f\"difference_{name}\": website_difference,\n",
    "                f\"sample_size_{name}\": sample_size\n",
    "            })\n",
    "\n",
    "    return pd.DataFrame(rows_list)"
   ]
  },
  {
   "cell_type": "code",
   "execution_count": 4,
   "metadata": {},
   "outputs": [],
   "source": [
    "no_cookies = compare_clickstreams(\"baseline\", \"all_cookies\", \"control_group\")\n",
    "all_cookies = compare_clickstreams(\"baseline\", \"no_cookies\", \"remove_cookies\")"
   ]
  },
  {
   "cell_type": "code",
   "execution_count": 5,
   "metadata": {},
   "outputs": [],
   "source": [
    "merged_df = no_cookies.merge(all_cookies, on=[\"website\"], how=\"inner\")"
   ]
  },
  {
   "cell_type": "code",
   "execution_count": 11,
   "metadata": {},
   "outputs": [],
   "source": [
    "def compare_with_control(baseline: str, control: str, experimental: str) -> pd.DataFrame:\n",
    "    rows_list = []\n",
    "\n",
    "    for path in PATHS:\n",
    "        clickstreams = utils.get_directories(path)\n",
    "\n",
    "        sample_size = 0\n",
    "\n",
    "        total_clickstreams = 0\n",
    "        website_sum = 0\n",
    "\n",
    "        for clickstream in clickstreams:\n",
    "\n",
    "            total_actions = 0\n",
    "            clickstream_sum = 0\n",
    "\n",
    "            for _ in range(10):\n",
    "                baseline_path = f\"{clickstream}/{baseline}-{total_actions}.png\"\n",
    "                control_path = f\"{clickstream}/{control}-{total_actions}.png\"\n",
    "                experimental_path = f\"{clickstream}/{experimental}-{total_actions}.png\"\n",
    "                \n",
    "                if os.path.isfile(baseline_path) and os.path.isfile(control_path) and os.path.isfile(experimental_path):\n",
    "                    CHUNK_SIZE = 40  # Recommended by https://www.usenix.org/legacy/events/sec07/tech/full_papers/anderson/anderson.pdf\n",
    "                    baseline_shingle = ImageShingle(baseline_path, CHUNK_SIZE)\n",
    "                    control_shingle = ImageShingle(control_path, CHUNK_SIZE)\n",
    "                    experimental_shingle = ImageShingle(experimental_path, CHUNK_SIZE)\n",
    "\n",
    "                    try:\n",
    "                        clickstream_sum += ImageShingle.compare_with_control(baseline_shingle, control_shingle, experimental_shingle)\n",
    "                    except:\n",
    "                        print(baseline_path)\n",
    "                    total_actions += 1\n",
    "\n",
    "            sample_size += total_actions\n",
    "\n",
    "            if total_actions != 0:\n",
    "                clickstream_similarity = clickstream_sum / total_actions\n",
    "                website_sum += clickstream_similarity\n",
    "\n",
    "                total_clickstreams += 1\n",
    "        \n",
    "        if total_clickstreams != 0:\n",
    "            website_similarity = website_sum / total_clickstreams\n",
    "            website_difference = 1 - website_similarity\n",
    "\n",
    "            website = os.path.basename(os.path.normpath(path))\n",
    "            rows_list.append({\n",
    "                \"website\": website,\n",
    "                f\"difference\": website_difference,\n",
    "                f\"sample_size\": sample_size\n",
    "            })\n",
    "\n",
    "    return pd.DataFrame(rows_list)"
   ]
  },
  {
   "cell_type": "code",
   "execution_count": 12,
   "metadata": {},
   "outputs": [
    {
     "name": "stdout",
     "output_type": "stream",
     "text": [
      "crawls/slate/slate.com/0/baseline-0.png\n",
      "crawls/slate/slate.com/0/baseline-2.png\n"
     ]
    },
    {
     "data": {
      "text/html": [
       "<div>\n",
       "<style scoped>\n",
       "    .dataframe tbody tr th:only-of-type {\n",
       "        vertical-align: middle;\n",
       "    }\n",
       "\n",
       "    .dataframe tbody tr th {\n",
       "        vertical-align: top;\n",
       "    }\n",
       "\n",
       "    .dataframe thead th {\n",
       "        text-align: right;\n",
       "    }\n",
       "</style>\n",
       "<table border=\"1\" class=\"dataframe\">\n",
       "  <thead>\n",
       "    <tr style=\"text-align: right;\">\n",
       "      <th></th>\n",
       "      <th>website</th>\n",
       "      <th>difference</th>\n",
       "      <th>sample_size</th>\n",
       "    </tr>\n",
       "  </thead>\n",
       "  <tbody>\n",
       "    <tr>\n",
       "      <th>0</th>\n",
       "      <td>slate.com</td>\n",
       "      <td>0.67533</td>\n",
       "      <td>3</td>\n",
       "    </tr>\n",
       "  </tbody>\n",
       "</table>\n",
       "</div>"
      ],
      "text/plain": [
       "     website  difference  sample_size\n",
       "0  slate.com     0.67533            3"
      ]
     },
     "execution_count": 12,
     "metadata": {},
     "output_type": "execute_result"
    }
   ],
   "source": [
    "df = compare_with_control(\"baseline\", \"all_cookies\", \"no_cookies\")\n",
    "df"
   ]
  },
  {
   "cell_type": "code",
   "execution_count": 8,
   "metadata": {},
   "outputs": [],
   "source": [
    "# merged_df.to_csv(f'analysis/{CRAWL_NAME}.csv', index=False)"
   ]
  },
  {
   "cell_type": "code",
   "execution_count": 9,
   "metadata": {},
   "outputs": [
    {
     "data": {
      "text/html": [
       "<div>\n",
       "<style scoped>\n",
       "    .dataframe tbody tr th:only-of-type {\n",
       "        vertical-align: middle;\n",
       "    }\n",
       "\n",
       "    .dataframe tbody tr th {\n",
       "        vertical-align: top;\n",
       "    }\n",
       "\n",
       "    .dataframe thead th {\n",
       "        text-align: right;\n",
       "    }\n",
       "</style>\n",
       "<table border=\"1\" class=\"dataframe\">\n",
       "  <thead>\n",
       "    <tr style=\"text-align: right;\">\n",
       "      <th></th>\n",
       "      <th>website</th>\n",
       "      <th>difference_control_group</th>\n",
       "      <th>sample_size_control_group</th>\n",
       "      <th>difference_remove_cookies</th>\n",
       "      <th>sample_size_remove_cookies</th>\n",
       "    </tr>\n",
       "  </thead>\n",
       "  <tbody>\n",
       "    <tr>\n",
       "      <th>0</th>\n",
       "      <td>slate.com</td>\n",
       "      <td>0.378382</td>\n",
       "      <td>3</td>\n",
       "      <td>0.309027</td>\n",
       "      <td>3</td>\n",
       "    </tr>\n",
       "  </tbody>\n",
       "</table>\n",
       "</div>"
      ],
      "text/plain": [
       "     website  difference_control_group  sample_size_control_group  \\\n",
       "0  slate.com                  0.378382                          3   \n",
       "\n",
       "   difference_remove_cookies  sample_size_remove_cookies  \n",
       "0                   0.309027                           3  "
      ]
     },
     "execution_count": 9,
     "metadata": {},
     "output_type": "execute_result"
    }
   ],
   "source": [
    "merged_df"
   ]
  }
 ],
 "metadata": {
  "kernelspec": {
   "display_name": "cookie-classify",
   "language": "python",
   "name": "python3"
  },
  "language_info": {
   "codemirror_mode": {
    "name": "ipython",
    "version": 3
   },
   "file_extension": ".py",
   "mimetype": "text/x-python",
   "name": "python",
   "nbconvert_exporter": "python",
   "pygments_lexer": "ipython3",
   "version": "3.11.4"
  },
  "orig_nbformat": 4
 },
 "nbformat": 4,
 "nbformat_minor": 2
}
