{
 "cells": [
  {
   "cell_type": "code",
   "execution_count": null,
   "metadata": {},
   "outputs": [],
   "source": [
    "%matplotlib inline\n",
    "import pandas as pd\n",
    "import numpy as np\n",
    "import sqlite3\n",
    "import os\n",
    "from bs4 import BeautifulSoup as bs\n",
    "import re\n",
    "from functools import reduce\n",
    "import seaborn as sns\n",
    "import matplotlib as mpl\n",
    "import matplotlib.ticker as mtick\n",
    "import matplotlib.pyplot as plt\n",
    "sns.set_theme()\n",
    "import warnings\n",
    "import scipy.stats\n",
    "import scikit_posthocs as sp\n",
    "from publicsuffix2 import PublicSuffixList\n",
    "\n",
    "import matplotlib.patches as mpatches\n",
    "import pingouin as pg\n",
    "\n",
    "from statannotations.Annotator import Annotator\n",
    "\n",
    "import json\n",
    "import csv\n",
    "import math\n",
    "\n",
    "import pprint\n",
    "pp = pprint.PrettyPrinter(indent=4)\n",
    "\n",
    "psl = PublicSuffixList()\n",
    "warnings.filterwarnings('ignore')\n",
    "# %config Completer.use_jedi = False"
   ]
  }
 ],
 "metadata": {
  "kernelspec": {
   "display_name": "cookie-classify",
   "language": "python",
   "name": "python3"
  },
  "language_info": {
   "name": "python",
   "version": "3.11.3"
  },
  "orig_nbformat": 4
 },
 "nbformat": 4,
 "nbformat_minor": 2
}
