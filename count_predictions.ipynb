{
 "cells": [
  {
   "cell_type": "code",
   "execution_count": 6,
   "metadata": {},
   "outputs": [],
   "source": [
    "import pandas as pd\n",
    "import json\n",
    "from collections import defaultdict\n",
    "import matplotlib.pyplot as plt"
   ]
  },
  {
   "cell_type": "code",
   "execution_count": 12,
   "metadata": {},
   "outputs": [
    {
     "name": "stdout",
     "output_type": "stream",
     "text": [
      "   Value  Number of Unique Cookies Predicted Label\n",
      "0      0                       976       necessary\n",
      "1      1                       100      functional\n",
      "2      2                        86       analytics\n",
      "3      3                        44     advertising\n"
     ]
    }
   ],
   "source": [
    "json_file_path = 'cookieblock_files/normal_rr_predictions_authormodel_nolabel.json'\n",
    "\n",
    "with open(json_file_path, 'r') as json_file:\n",
    "    data = json.load(json_file)\n",
    "\n",
    "value_counts = defaultdict(int)\n",
    "\n",
    "for value in data.values():\n",
    "    value_counts[value] += 1\n",
    "\n",
    "counts_df = pd.DataFrame({\"Value\": value_counts.keys(), \"Number of Unique Cookies\": value_counts.values()})\n",
    "\n",
    "counts_df = counts_df.sort_values(by=\"Value\")\n",
    "counts_df = counts_df.reset_index(drop=True)\n",
    "label_map = {0: \"necessary\", 1: \"functional\", 2: \"analytics\", 3: \"advertising\"}\n",
    "counts_df[\"Predicted Label\"] = counts_df[\"Value\"].map(label_map)\n",
    "\n",
    "print(counts_df)\n"
   ]
  },
  {
   "cell_type": "code",
   "execution_count": 13,
   "metadata": {},
   "outputs": [
    {
     "name": "stdout",
     "output_type": "stream",
     "text": [
      "   Value  Number of Unique Cookies Predicted Label\n",
      "0      0                       800       necessary\n",
      "1      1                        84      functional\n",
      "2      2                        75       analytics\n",
      "3      3                        26     advertising\n"
     ]
    }
   ],
   "source": [
    "json_file_path = 'cookieblock_files/reject_rr_predictions_authormodel_nolabel.json'\n",
    "\n",
    "with open(json_file_path, 'r') as json_file:\n",
    "    data = json.load(json_file)\n",
    "\n",
    "value_counts = defaultdict(int)\n",
    "\n",
    "for value in data.values():\n",
    "    value_counts[value] += 1\n",
    "\n",
    "counts_df = pd.DataFrame({\"Value\": value_counts.keys(), \"Number of Unique Cookies\": value_counts.values()})\n",
    "\n",
    "counts_df = counts_df.sort_values(by=\"Value\")\n",
    "counts_df = counts_df.reset_index(drop=True)\n",
    "label_map = {0: \"necessary\", 1: \"functional\", 2: \"analytics\", 3: \"advertising\"}\n",
    "counts_df[\"Predicted Label\"] = counts_df[\"Value\"].map(label_map)\n",
    "\n",
    "print(counts_df)"
   ]
  }
 ],
 "metadata": {
  "kernelspec": {
   "display_name": "cookie-classify",
   "language": "python",
   "name": "python3"
  },
  "language_info": {
   "codemirror_mode": {
    "name": "ipython",
    "version": 3
   },
   "file_extension": ".py",
   "mimetype": "text/x-python",
   "name": "python",
   "nbconvert_exporter": "python",
   "pygments_lexer": "ipython3",
   "version": "3.11.3"
  },
  "orig_nbformat": 4
 },
 "nbformat": 4,
 "nbformat_minor": 2
}
